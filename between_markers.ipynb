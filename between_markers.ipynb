{
 "cells": [
  {
   "cell_type": "code",
   "execution_count": 65,
   "metadata": {},
   "outputs": [
    {
     "data": {
      "text/plain": [
       "'apple'"
      ]
     },
     "execution_count": 65,
     "metadata": {},
     "output_type": "execute_result"
    }
   ],
   "source": [
    "def between_markers(string, mark_1, mark_2):\n",
    "    inx_1 = 0\n",
    "    inx_2 = 0 \n",
    "    inx_1 = string.find(mark_1)\n",
    "    inx_2 = string.find(mark_2)\n",
    "    new_string = string[inx_1+1:inx_2]\n",
    "    return new_string\n",
    "    \n",
    "            \n",
    "\n",
    "\n",
    "#between_markers('What is >apple<', '>', '<') == \"apple\"\n",
    "#between_markers('What is [apple]', '[', ']') \n",
    "#between_markers('What is ><', '>', '<') \n",
    "between_markers('>apple<', '>', '<') \n"
   ]
  }
 ],
 "metadata": {
  "kernelspec": {
   "display_name": "Python 3",
   "language": "python",
   "name": "python3"
  },
  "language_info": {
   "codemirror_mode": {
    "name": "ipython",
    "version": 3
   },
   "file_extension": ".py",
   "mimetype": "text/x-python",
   "name": "python",
   "nbconvert_exporter": "python",
   "pygments_lexer": "ipython3",
   "version": "3.7.6"
  }
 },
 "nbformat": 4,
 "nbformat_minor": 4
}
