{
 "cells": [
  {
   "cell_type": "code",
   "execution_count": 26,
   "metadata": {},
   "outputs": [
    {
     "data": {
      "text/plain": [
       "123"
      ]
     },
     "execution_count": 26,
     "metadata": {},
     "output_type": "execute_result"
    }
   ],
   "source": [
    "def sum_numbers(string):\n",
    "    new = string.split()\n",
    "    new_1 = 0\n",
    "    for i in new:\n",
    "        if i.isdigit():\n",
    "            i = int(i)\n",
    "            new_1 += i\n",
    "    return new_1\n",
    "            \n",
    "        \n",
    "    \n",
    "    \n",
    "            \n",
    "sum_numbers('This picture is an oil on canvas '\n",
    " 'painting by Danish artist Anna '\n",
    " 'Petersen between and 123 year') \n",
    "\n"
   ]
  }
 ],
 "metadata": {
  "kernelspec": {
   "display_name": "Python 3",
   "language": "python",
   "name": "python3"
  },
  "language_info": {
   "codemirror_mode": {
    "name": "ipython",
    "version": 3
   },
   "file_extension": ".py",
   "mimetype": "text/x-python",
   "name": "python",
   "nbconvert_exporter": "python",
   "pygments_lexer": "ipython3",
   "version": "3.7.6"
  }
 },
 "nbformat": 4,
 "nbformat_minor": 4
}
